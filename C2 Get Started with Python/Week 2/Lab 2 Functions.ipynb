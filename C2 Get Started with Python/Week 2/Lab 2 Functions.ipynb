{
 "cells": [
  {
   "cell_type": "markdown",
   "id": "e673e9d9",
   "metadata": {},
   "source": [
    "# Lab 2: Functions\n",
    "## Introduction \n",
    "\n",
    "In this lab, I have practiced defining functions and returning values, writing clean code, and using comments to scaffold code.\n",
    "\n",
    "As a data professional, I often need to reuse the same block of code more than once when writing Python code to automate a certain task. This is why functions are important. I can call functions whenever I need the computer to execute those steps. Python has built-in functions that have already been defined and also provides tools for users to define their own functions.\n",
    "\n",
    "In this lab, I have defined and called a function that calculates the revenue a theater makes depending on the number of tickets sold, then tested the function with a new value."
   ]
  },
  {
   "cell_type": "markdown",
   "id": "6ee15312",
   "metadata": {},
   "source": [
    "## Task 1: Analyze a function\n",
    "\n",
    "In your work as a data analyst for a movie theater, you're asked to quickly calculate how much the theater has made in sales so far.\n",
    "\n",
    "In the following cell, analyze the function named `total_sales` and make note of your observations.\n",
    "\n",
    "You do not need to run this cell, but if you do it will not produce an output."
   ]
  },
  {
   "cell_type": "code",
   "execution_count": 1,
   "id": "6d3a7515",
   "metadata": {},
   "outputs": [],
   "source": [
    "# Define a function named `total_sales`\n",
    "def total_sales():\n",
    "\n",
    "    # Return a value\n",
    "    return"
   ]
  },
  {
   "cell_type": "markdown",
   "id": "c0bd71cc",
   "metadata": {},
   "source": [
    "## Task 2: Add a parameter and calculations to the function\n",
    "\n",
    "As you continue refining your code, imagine that the price of tickets is $7.99. Now you will need to add a parameter to the function definition and the calculation to the function body.\n",
    "\n"
   ]
  },
  {
   "cell_type": "markdown",
   "id": "a8f038d3",
   "metadata": {},
   "source": [
    "### 2a: Add a calculation to the function\n",
    "\n",
    "In this task, update the `total_sales` function so it returns the value of the number of tickets `n` multiplied by the price `7.99`."
   ]
  },
  {
   "cell_type": "code",
   "execution_count": 2,
   "id": "58185dea",
   "metadata": {},
   "outputs": [],
   "source": [
    "def total_sales(n):\n",
    "    \n",
    "    price = 7.99\n",
    "    return price * n"
   ]
  },
  {
   "cell_type": "markdown",
   "id": "e71dd265",
   "metadata": {},
   "source": [
    "### 2b: Call the function\n",
    "\n",
    "With the calculations added to the `total_sales` function, test it with a value of `59`.\n",
    "\n",
    "*Example:*\n",
    "\n",
    "```\n",
    "[IN]  total_sales(59)\n",
    "[OUT] 471.41\n",
    "```"
   ]
  },
  {
   "cell_type": "code",
   "execution_count": 3,
   "id": "c820de85",
   "metadata": {},
   "outputs": [
    {
     "name": "stdout",
     "output_type": "stream",
     "text": [
      "471.41\n"
     ]
    }
   ],
   "source": [
    "print(total_sales(59))"
   ]
  },
  {
   "cell_type": "markdown",
   "id": "d5a54bf4",
   "metadata": {},
   "source": [
    "# Task 3: Create a function that accepts two values\n",
    "\n",
    "You learn that the price of tickets is more expensive for opening night, and now you need to create a function that will accept two values and return their total value."
   ]
  },
  {
   "cell_type": "markdown",
   "id": "39133af3",
   "metadata": {},
   "source": [
    "### 3a: Refine the `total_sales` function\n",
    "\n",
    "*  Update your `total_sales` function so it accepts two parameters:\n",
    "    * `price` for the price per ticket\n",
    "    * `num_tickets` for the total number of tickets.\n",
    "\n",
    "* Return the product of the two arguments. Use the Python `round()` function to round the returned value to two decimal places. Refer to the [round() Python documentation](https://docs.python.org/3/library/functions.html#round) for more information regarding this function."
   ]
  },
  {
   "cell_type": "code",
   "execution_count": 4,
   "id": "833e8fb5",
   "metadata": {},
   "outputs": [],
   "source": [
    "# Refine the `total_sales` function\n",
    "def total_sales(price, num_tickets):\n",
    "    return round(price * num_tickets, 2)"
   ]
  },
  {
   "cell_type": "markdown",
   "id": "563543c0",
   "metadata": {},
   "source": [
    "### 3b: Call the function\n",
    "\n",
    "Then, call the function with the value of `15.99` for `price` and `1001` for the number of tickets sold (`num_tickets`).\n",
    "\n",
    "Example:\n",
    "\n",
    "```\n",
    "[IN]  total_sales(15.99, 1001)\n",
    "[OUT] 16005.99\n",
    "```"
   ]
  },
  {
   "cell_type": "code",
   "execution_count": 5,
   "id": "68eaebc5",
   "metadata": {},
   "outputs": [
    {
     "data": {
      "text/plain": [
       "16005.99"
      ]
     },
     "execution_count": 5,
     "metadata": {},
     "output_type": "execute_result"
    }
   ],
   "source": [
    "# Call the function with two values\n",
    "total_sales(15.99, 1001)"
   ]
  },
  {
   "cell_type": "markdown",
   "id": "072da320",
   "metadata": {},
   "source": [
    "## Task 4: Test the function with different values\n",
    "\n",
    "As prices and sales fluctate, your function will need to accept different values and still return the total sales.\n",
    "\n",
    "In this task, practice calling your function with different values.\n",
    "\n",
    "Example:\n",
    "\n",
    "```\n",
    "[IN]  total_sales(16.99, 1232)\n",
    "[OUT] 20931.68\n",
    "\n",
    "[IN]  total_sales(10.50, 1472)\n",
    "[OUT] 15456.0\n",
    "\n",
    "[IN]  total_sales(5.00, 349)\n",
    "[OUT] 1745.0\n",
    "\n",
    "```"
   ]
  },
  {
   "cell_type": "code",
   "execution_count": 6,
   "id": "45e22288",
   "metadata": {},
   "outputs": [
    {
     "data": {
      "text/plain": [
       "20931.68"
      ]
     },
     "execution_count": 6,
     "metadata": {},
     "output_type": "execute_result"
    }
   ],
   "source": [
    "# Call `total_sales` with 16.99 price and 1232 num_tickets\n",
    "total_sales(16.99, 1232)"
   ]
  },
  {
   "cell_type": "code",
   "execution_count": 7,
   "id": "cde3bab5",
   "metadata": {},
   "outputs": [
    {
     "data": {
      "text/plain": [
       "15456.0"
      ]
     },
     "execution_count": 7,
     "metadata": {},
     "output_type": "execute_result"
    }
   ],
   "source": [
    "# Call `total_sales` with 10.50 price and 1472 num_tickets\n",
    "total_sales(10.50, 1472)"
   ]
  },
  {
   "cell_type": "code",
   "execution_count": 8,
   "id": "d9c8bf3c",
   "metadata": {},
   "outputs": [
    {
     "data": {
      "text/plain": [
       "1745.0"
      ]
     },
     "execution_count": 8,
     "metadata": {},
     "output_type": "execute_result"
    }
   ],
   "source": [
    "# Call `total_sales` with 5.00 price and 349 num_tickets\n",
    "total_sales(5.00, 349)"
   ]
  },
  {
   "cell_type": "markdown",
   "id": "30f77b1b",
   "metadata": {},
   "source": [
    "## Conclusion\n",
    "- Python has allowed me to define and call functions that I create.\n",
    "\n",
    "- The main components of a function have been the definition statement, the body, and the output statement (usually `return` or `print`).\n",
    "\n",
    "    - The function header has included the def keyword, followed by the name of the function, followed by parentheses, followed by a colon.\n",
    "\n",
    "    - The function body has included an indented block of code that instructs the computer on what to do when the function is called.\n",
    "\n",
    "    - The output statement has been what the function should produce as a result when executed.\n",
    "\n",
    "- Functions have allowed me to reuse common code.\n",
    "\n",
    "    - I have saved frequently used calculations to a function and reused them without writing out the equation multiple times.\n",
    "\n",
    "- Functions have accepted single or multiple parameters.\n",
    "\n",
    "    - I have customized functions to accept more than one parameter and perform calculations on them, which has allowed greater flexibility when working with fluctuating values.\n",
    "\n",
    "- I have included functions such as `round()` in the return statement to help keep calculated values tidy and easy to read.\n",
    "\n",
    "- Scaffolding functions with code comments has helped improve readability.\n",
    "\n",
    "- Clearly commented code has explained how the code works as well as the intended results."
   ]
  }
 ],
 "metadata": {
  "kernelspec": {
   "display_name": "Python 3 (ipykernel)",
   "language": "python",
   "name": "python3"
  },
  "language_info": {
   "codemirror_mode": {
    "name": "ipython",
    "version": 3
   },
   "file_extension": ".py",
   "mimetype": "text/x-python",
   "name": "python",
   "nbconvert_exporter": "python",
   "pygments_lexer": "ipython3",
   "version": "3.11.4"
  }
 },
 "nbformat": 4,
 "nbformat_minor": 5
}
