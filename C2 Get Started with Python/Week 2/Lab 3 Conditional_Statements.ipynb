{
 "cells": [
  {
   "cell_type": "markdown",
   "id": "3a074f5d",
   "metadata": {},
   "source": [
    "# Lab 3: Conditional Statements\n",
    "\n",
    "## Introduction\n",
    "\n",
    "\n",
    "In this lab, I have practiced using Python operators to perform operations between two variables and written conditional statements.\n",
    "\n",
    "As a data analyst, I have used conditional statements in my approach to many different tasks using Python. Using Boolean values, conditional statements have determined how a code block is executed based on how a condition is met.\n",
    "\n",
    "While continuing work for the movie theater, I have been examining marketing campaigns. Specifically, I have been analyzing user behavior to determine when a customer's activity has prompted a marketing email."
   ]
  },
  {
   "cell_type": "markdown",
   "id": "1927bea8",
   "metadata": {},
   "source": [
    "## Task 1: Define a comparator function\n",
    "\n",
    "You are a data professional for a movie theater, and your task is to use customers' purchasing data to determine whether or not to send them a marketing email.\n",
    "\n",
    "*   Define a function called `send_email` that accepts the following arguments:\n",
    "    *  `num_visits` - the number of times a customer has visited the theater\n",
    "    *  `visits_email` - the minimum number of visits the customer must have made for them to receive a marketing email\n",
    "*   The function must print either: `Send email.` or `Not enough visits.`\n",
    "\n",
    "*Example:*\n",
    "\n",
    "```\n",
    " [IN] send_email(num_visits=3, visits_email=5)\n",
    "[OUT] 'Not enough visits.'\n",
    "\n",
    " [IN] send_email(num_visits=5, visits_email=5)\n",
    "[OUT] 'Send email.'\n",
    "```\n",
    "\n",
    "**Note that there is more than one way to solve this problem.**"
   ]
  },
  {
   "cell_type": "code",
   "execution_count": 23,
   "id": "9221a845",
   "metadata": {},
   "outputs": [],
   "source": [
    "def send_email(num_visits, visits_email):\n",
    "    if num_visits >= visits_email:\n",
    "        print(\"Send email.\")\n",
    "    else:\n",
    "        print(\"Not enough visits\")"
   ]
  },
  {
   "cell_type": "code",
   "execution_count": 24,
   "id": "29c44a2e",
   "metadata": {},
   "outputs": [
    {
     "name": "stdout",
     "output_type": "stream",
     "text": [
      "Not enough visits\n"
     ]
    }
   ],
   "source": [
    "send_email(num_visits=3, visits_email=5)"
   ]
  },
  {
   "cell_type": "code",
   "execution_count": 25,
   "id": "97c0dc6b",
   "metadata": {},
   "outputs": [
    {
     "name": "stdout",
     "output_type": "stream",
     "text": [
      "Send email.\n"
     ]
    }
   ],
   "source": [
    "send_email(num_visits=5, visits_email=5)"
   ]
  },
  {
   "cell_type": "markdown",
   "id": "b2693eeb",
   "metadata": {},
   "source": [
    "### Test your function\n",
    "Test your function against the following cases by running the cell below."
   ]
  },
  {
   "cell_type": "code",
   "execution_count": 26,
   "id": "d165a919",
   "metadata": {},
   "outputs": [
    {
     "name": "stdout",
     "output_type": "stream",
     "text": [
      "Not enough visits\n",
      "Send email.\n",
      "Send email.\n"
     ]
    }
   ],
   "source": [
    "send_email(num_visits=3, visits_email=5)    # Should print 'Not enough visits.'\n",
    "send_email(num_visits=5, visits_email=5)    # Should print 'Send email.'\n",
    "send_email(num_visits=15, visits_email=10)  # Should print 'Send email.'"
   ]
  },
  {
   "cell_type": "markdown",
   "id": "decb2cf6",
   "metadata": {},
   "source": [
    "## Task 2: Add logical branching to your function\n",
    "\n",
    "The theater is offering a promotion where customers who have visited the theater more than a designated number of times will also receive a coupon with their email. Update the function that you created above to include additional logical branching.\n",
    "\n",
    "*   Include an additional argument `visits_coupon` that represents the minimum number of visits the customer must have made for them to receive a coupon with their email.\n",
    "\n",
    "*   The function must print one of three possible messages:\n",
    "    1. `Send email with coupon.`\n",
    "    2. `Send email only.`\n",
    "    3. `Not enough visits.`\n",
    "\n",
    "*Example:*\n",
    "\n",
    "```\n",
    " [IN] send_email(num_visits=3, visits_email=5, visits_coupon=8)\n",
    "[OUT] 'Not enough visits.'\n",
    "\n",
    " [IN] send_email(num_visits=5, visits_email=5, visits_coupon=8)\n",
    "[OUT] `Send email only.`\n",
    "\n",
    " [IN] send_email(num_visits=8, visits_email=5, visits_coupon=8)\n",
    "[OUT] `Send email with coupon.`\n",
    "```\n",
    "\n",
    "**Note that there is more than one way to solve this problem.**"
   ]
  },
  {
   "cell_type": "code",
   "execution_count": 27,
   "id": "5ad298a6",
   "metadata": {},
   "outputs": [],
   "source": [
    "def send_email(num_visits, visits_email, visits_coupon):\n",
    "    if num_visits >= visits_coupon:\n",
    "        print('Send email with coupon.')\n",
    "    elif num_visits >= visits_email:\n",
    "        print('Send email only.')\n",
    "    else:\n",
    "        print('Not enough visits.')"
   ]
  },
  {
   "cell_type": "markdown",
   "id": "1a64d09c",
   "metadata": {},
   "source": [
    "### Test your function\n",
    "Test your function against the following cases by running the cell below."
   ]
  },
  {
   "cell_type": "code",
   "execution_count": 28,
   "id": "435613e7",
   "metadata": {},
   "outputs": [
    {
     "name": "stdout",
     "output_type": "stream",
     "text": [
      "Not enough visits.\n",
      "Send email only.\n",
      "Send email only.\n",
      "Send email with coupon.\n",
      "Send email with coupon.\n"
     ]
    }
   ],
   "source": [
    "send_email(num_visits=3, visits_email=5, visits_coupon=8)   # Should print 'Not enough visits.'\n",
    "send_email(num_visits=5, visits_email=5, visits_coupon=8)   # Should print 'Send email only.'\n",
    "send_email(num_visits=6, visits_email=5, visits_coupon=8)   # Should print 'Send email only.'\n",
    "send_email(num_visits=8, visits_email=5, visits_coupon=8)   # Should print 'Send email with coupon.'\n",
    "send_email(num_visits=10, visits_email=5, visits_coupon=8)  # Should print 'Send email with coupon.'"
   ]
  },
  {
   "cell_type": "markdown",
   "id": "44b7b99a",
   "metadata": {},
   "source": [
    "## Conclusion\n",
    "\n",
    "Conditional statements, comparison operators, and logical operators have played a major role in automating processes and controlling the branching of code execution.\n",
    "\n",
    "Conditional statements have allowed me to determine whether a specific set of criteria has been met.\n",
    "\n",
    "Comparison operators have allowed me to compare pairs of values.\n",
    "\n",
    "Comparison operators such as `>=` and `<=` have been combined to select a range of data within a specific parameter.\n",
    "\n",
    "Logical operators such as `and` and `or` have allowed me to check more than one condition at a time."
   ]
  }
 ],
 "metadata": {
  "kernelspec": {
   "display_name": "Python 3 (ipykernel)",
   "language": "python",
   "name": "python3"
  },
  "language_info": {
   "codemirror_mode": {
    "name": "ipython",
    "version": 3
   },
   "file_extension": ".py",
   "mimetype": "text/x-python",
   "name": "python",
   "nbconvert_exporter": "python",
   "pygments_lexer": "ipython3",
   "version": "3.11.4"
  }
 },
 "nbformat": 4,
 "nbformat_minor": 5
}
