{
 "cells": [
  {
   "cell_type": "markdown",
   "id": "993c6044",
   "metadata": {},
   "source": [
    "# Lab 7: Lists & Tuples\n",
    "\n",
    "## Introduction \n",
    "\n",
    "In this lab, I have practiced creating, modifying, and working with data structures in Python. This has developed my knowledge of different kinds of data structures and the various operations that I can perform with them to answer questions about the data. It has also helped me prepare for projects I may encounter where I will need to use data structures to store and keep track of data.\n",
    "\n",
    "For this activity, I have been part of a research team that focuses on air quality, and I have received a few data points collected by the U.S. Environmental Protection Agency (EPA). My goal has been to store and organize this data so that it can be accessed and updated easily.\n",
    "\n",
    "In this lab, I have worked specifically with the state names and county names of places that reported air quality index readings."
   ]
  },
  {
   "cell_type": "markdown",
   "id": "715cd0f4",
   "metadata": {},
   "source": [
    "## Task 1: Create lists and use tuples\n",
    "\n",
    "As you continue your work with the EPA, you want to create an ordered data structure containing pairs of values, which can be iterated over to gain insights from the data.\n",
    "\n",
    "### 1a: Create lists\n",
    "\n",
    "You'll work with state names and county names indicated below.\n",
    "\n",
    "| state_name | county_name |\n",
    "| --- | --- |\n",
    "| Arizona | Maricopa |\n",
    "| California | Alameda |\n",
    "| California | Sacramento |\n",
    "| Kentucky | Jefferson |\n",
    "| Louisiana | East Baton Rouge |\n",
    "\n",
    "<br/>\n",
    "\n",
    "\n",
    "*  In this task, assign two variables:\n",
    "\n",
    "    1. `state_names` - a `list` of each state in the `state_name` column in the table above, in order, as strings\n",
    "    2. `county_names` - a `list` of each county in the `county_name` column in the table above, in order, as strings\n",
    "\n"
   ]
  },
  {
   "cell_type": "code",
   "execution_count": 1,
   "id": "36d80567",
   "metadata": {},
   "outputs": [],
   "source": [
    "# 1. ### YOUR CODE HERE ###\n",
    "state_names = [\"Arizona\", \"California\", \"California\", \"Kentucky\", \"Louisiana\"]\n",
    "\n",
    "# 2. ### YOUR CODE HERE ###\n",
    "county_names = [\"Maricopa\", \"Alameda\", \"Sacramento\", \"Jefferson\", \"East Baton Rouge\"]"
   ]
  },
  {
   "cell_type": "code",
   "execution_count": 2,
   "id": "38bedb07",
   "metadata": {},
   "outputs": [
    {
     "data": {
      "text/plain": [
       "[('Arizona', 'Maricopa'),\n",
       " ('California', 'Alameda'),\n",
       " ('California', 'Sacramento'),\n",
       " ('Kentucky', 'Jefferson'),\n",
       " ('Louisiana', 'East Baton Rouge')]"
      ]
     },
     "execution_count": 2,
     "metadata": {},
     "output_type": "execute_result"
    }
   ],
   "source": [
    "### YOUR CODE HERE ###\n",
    "state_county_tuples = []\n",
    "for i in range(len(state_names)):\n",
    "    state_county_tuples.append((state_names[i], county_names[i]))\n",
    "\n",
    "state_county_tuples\n"
   ]
  },
  {
   "cell_type": "markdown",
   "id": "b66c3dc0",
   "metadata": {},
   "source": [
    "### 1c: Do the same thing using the `zip()` function\n",
    "\n",
    "Python has a built-in function to make the above process much easier. It's called the `zip()` function. This function accepts any number of iterable objects as arguments. If the arguments are all of equal length, the function returns an iterator object of tuples, where each tuple contains `element[i]` of each argument.\n",
    "\n",
    "You can then either loop over the iterator object or pass it to the `list()` function to unpack its values.\n",
    "\n",
    "Refer to the [zip() Python documentation](https://docs.python.org/3/library/functions.html#zip) for more information.\n",
    "\n",
    "Here's an example:\n",
    "\n"
   ]
  },
  {
   "cell_type": "code",
   "execution_count": 3,
   "id": "4c6106ae",
   "metadata": {},
   "outputs": [
    {
     "name": "stdout",
     "output_type": "stream",
     "text": [
      "<zip object at 0x0000019E54C4F540>\n",
      "[('a', 1), ('b', 2), ('c', 3)]\n"
     ]
    }
   ],
   "source": [
    "# RUN THIS CELL\n",
    "a = ['a', 'b', 'c']\n",
    "b = [1, 2, 3]\n",
    "c = zip(a, b)\n",
    "\n",
    "print(c)\n",
    "print(list(c))"
   ]
  },
  {
   "cell_type": "markdown",
   "id": "e17404c3",
   "metadata": {},
   "source": [
    "Use the `zip()` function to generate the same output created in Task 1b.\n",
    "\n",
    "1. Use `state_names` and `county_names` to:\n",
    "    * Create a new list of tuples, where each tuple contains a pair of state name and county name.\n",
    "    * Assign the new list to a variable called `state_county_zipped`.\n",
    "2. Check that `state_county_zipped` is the same as `state_county_tuples`."
   ]
  },
  {
   "cell_type": "code",
   "execution_count": 4,
   "id": "0c58885e",
   "metadata": {},
   "outputs": [
    {
     "data": {
      "text/plain": [
       "True"
      ]
     },
     "execution_count": 4,
     "metadata": {},
     "output_type": "execute_result"
    }
   ],
   "source": [
    "# 1. ### YOUR CODE HERE ###\n",
    "state_county_zipped = list(zip(state_names, county_names))\n",
    "\n",
    "# 2. ### YOUR CODE HERE ###\n",
    "state_county_zipped == state_county_tuples"
   ]
  },
  {
   "cell_type": "markdown",
   "id": "d74dbfa3",
   "metadata": {},
   "source": [
    "## Task 2: Use list comprehension to convert to list of lists\n",
    "\n",
    "Since tuples are immutable and can't be changed, converting tuples to lists is a practice data professionals use so they can make adjustments to the data, if necessary.\n",
    "\n",
    "* Use a list comprehension to convert `state_county_tuples` from a list of tuples to a list of lists. Assign the result to a variable called `state_county_lists`.\n",
    "\n",
    "* Print the result.\n",
    "\n",
    "*Expected result:*\n",
    "\n",
    "```\n",
    "[OUT] [['Arizona', 'Maricopa'],\n",
    "       ['California', 'Alameda'],\n",
    "       ['California', 'Sacramento'],\n",
    "       ['Kentucky', 'Jefferson'],\n",
    "       ['Louisiana', 'East Baton Rouge']]\n",
    "```"
   ]
  },
  {
   "cell_type": "code",
   "execution_count": 5,
   "id": "efac1a36",
   "metadata": {},
   "outputs": [
    {
     "data": {
      "text/plain": [
       "[['Arizona', 'Maricopa'],\n",
       " ['California', 'Alameda'],\n",
       " ['California', 'Sacramento'],\n",
       " ['Kentucky', 'Jefferson'],\n",
       " ['Louisiana', 'East Baton Rouge']]"
      ]
     },
     "execution_count": 5,
     "metadata": {},
     "output_type": "execute_result"
    }
   ],
   "source": [
    "### YOUR CODE HERE\n",
    "state_county_lists = [list(i) for i in state_county_tuples]\n",
    "state_county_lists"
   ]
  },
  {
   "cell_type": "markdown",
   "id": "8f28ee5a",
   "metadata": {},
   "source": [
    "## Task 3: Unpacking an iterable\n",
    "\n",
    "Data professionals often use the technique of unpacking to work with individual elements of iterable objects. As you continue in your work as an analyst, you are asked to iterate through your list of state/county pairs to identify only the counties in California.\n",
    "\n",
    "As a refresher, here is the data you have been working with:\n",
    "\n",
    "| state_name | county_name |\n",
    "| --- | --- |\n",
    "| Arizona | Maricopa |\n",
    "| California | Alameda |\n",
    "| California | Sacramento |\n",
    "| Kentucky | Jefferson |\n",
    "| Louisiana | East Baton Rouge |\n",
    "\n",
    "### 3a: Unpacking in a loop\n",
    "\n",
    "* Write a loop that unpacks each tuple in `state_county_tuples` and, if the state in the tuple is `California`, add the corresponding county to a list called `ca_counties`.\n",
    "\n",
    "*Expected output:*\n",
    "\n",
    "```\n",
    "[OUT] ['Alameda', 'Sacramento']\n",
    "```"
   ]
  },
  {
   "cell_type": "code",
   "execution_count": 6,
   "id": "c91c0fd8",
   "metadata": {},
   "outputs": [
    {
     "data": {
      "text/plain": [
       "['Alameda', 'Sacramento']"
      ]
     },
     "execution_count": 6,
     "metadata": {},
     "output_type": "execute_result"
    }
   ],
   "source": [
    "### YOUR CODE HERE ###\n",
    "ca_counties = []\n",
    "for state, county in state_county_tuples:\n",
    "    if state=='California':\n",
    "        ca_counties.append(county)\n",
    "ca_counties"
   ]
  },
  {
   "cell_type": "markdown",
   "id": "5e8c9efb",
   "metadata": {},
   "source": [
    "### 3b: Unpacking in a list comprehension\n",
    "\n",
    "Now, use a list comprehension to accomplish the same thing as what you did in Task 3a.\n",
    "\n",
    "* In a list comprehension, unpack each tuple in `state_county_tuples` and, if the state in the tuple is `California`, add the corresponding county to the list comprehension.\n",
    "\n",
    "* Assign the result to a variable called `ca_counties`.\n",
    "\n",
    "* Print `ca_counties`.\n",
    "\n",
    "*Expected output:*\n",
    "\n",
    "```\n",
    "[OUT] ['Alameda', 'Sacramento']\n",
    "```"
   ]
  },
  {
   "cell_type": "code",
   "execution_count": 7,
   "id": "f263f7c4",
   "metadata": {},
   "outputs": [
    {
     "data": {
      "text/plain": [
       "['Alameda', 'Sacramento']"
      ]
     },
     "execution_count": 7,
     "metadata": {},
     "output_type": "execute_result"
    }
   ],
   "source": [
    "### YOUR CODE HERE ###\n",
    "ca_counties = [county for (state, county) in state_county_tuples if state=='California']\n",
    "ca_counties"
   ]
  },
  {
   "cell_type": "markdown",
   "id": "2a9906c7",
   "metadata": {},
   "source": [
    "## Conclusion\n",
    "\n",
    "- Lists and tuples have been important iterable data types in Python that share many characteristics.\n",
    "- Tuples in Python have been useful for storing data in ordered sequences that are preserved and cannot be modified after creation.\n",
    "- The `zip()` function has been very useful for combining iterable objects element-wise.\n",
    "- Tuples and lists have been unpacked.\n",
    "- List comprehensions have been quick and efficient ways to execute loop-like processes in a single line of code that result in a list."
   ]
  }
 ],
 "metadata": {
  "kernelspec": {
   "display_name": "Python 3 (ipykernel)",
   "language": "python",
   "name": "python3"
  },
  "language_info": {
   "codemirror_mode": {
    "name": "ipython",
    "version": 3
   },
   "file_extension": ".py",
   "mimetype": "text/x-python",
   "name": "python",
   "nbconvert_exporter": "python",
   "pygments_lexer": "ipython3",
   "version": "3.11.4"
  }
 },
 "nbformat": 4,
 "nbformat_minor": 5
}
