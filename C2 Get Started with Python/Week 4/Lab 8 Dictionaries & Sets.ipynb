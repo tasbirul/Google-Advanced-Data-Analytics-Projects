{
 "cells": [
  {
   "cell_type": "markdown",
   "metadata": {
    "id": "-Lwnt5KN31Fq"
   },
   "source": [
    "# Lab 7: Lists & Tuples\n",
    "\n",
    "## Introduction \n",
    "\n",
    "In this lab, I have practiced creating, modifying, and working with data structures in Python. This has developed my knowledge of different kinds of data structures and the various operations that I can perform with them to answer questions about the data. It has also helped me prepare for projects I may encounter where I will need to use data structures to store and keep track of data.\n",
    "\n",
    "For this activity, I have been part of a research team that focuses on air quality, and I have received a few data points collected by the U.S. Environmental Protection Agency (EPA). My goal has been to store and organize this data so that it can be accessed and updated easily.\n",
    "\n",
    "In this lab, I have worked specifically with the state names and county names of places that reported air quality index readings."
   ]
  },
  {
   "cell_type": "markdown",
   "metadata": {
    "id": "JlXRqG234ys5"
   },
   "source": [
    "# Task 1: Create a dictionary to store information</h2></summary>\n",
    "\n",
    "Dictionaries are useful when you need a data structure to store information that can be referenced or looked up.\n",
    "\n",
    "In this task you'll begin with three `list` objects:\n",
    "\n",
    "* `state_list` - an ordered list of the state where each data point was recorded\n",
    "* `county_list` - an ordered list of the county where each data point was recorded\n",
    "* `aqi_list` - an ordered list of AQI records\n",
    "\n",
    "As a refresher, here is an example table of some of the information contained in these variables:\n",
    "\n",
    "| state_name | county_name | aqi |\n",
    "| --- | --- | --- |\n",
    "| Arizona | Maricopa | 9 |\n",
    "| California | Alameda | 11 |\n",
    "| California | Sacramento | 35 |\n",
    "| Kentucky | Jefferson | 6 |\n",
    "| Louisiana | East Baton Rouge | 5 |\n",
    "\n",
    "\n",
    "</details>\n",
    "\n",
    "**Reminder:** This lab uses more data than the last one. This table is just a small sample of the information contained in the three lists that are provided for this activity. "
   ]
  },
  {
   "cell_type": "markdown",
   "metadata": {
    "id": "Xnom2939uK6t"
   },
   "source": [
    "## 1a: Create a list of tuples\n",
    "\n",
    "Begin with an intermediary step to prepare the information to be put in a dictionary.\n",
    "\n",
    "* Convert `state_list`, `county_list`, and `aqi_list` to a list of tuples, where each tuple contains information for a single record: `(state, county, aqi)`.\n",
    "\n",
    "* Assign the result to a variable called `epa_tuples`.\n",
    "\n"
   ]
  },
  {
   "cell_type": "code",
   "execution_count": 1,
   "metadata": {
    "id": "ifs5GtHdctXg"
   },
   "outputs": [],
   "source": [
    "# RUN THIS CELL TO IMPORT YOUR DATA\n",
    "import ada_c2_labs as lab\n",
    "state_list = lab.fetch_epa('state')\n",
    "county_list = lab.fetch_epa('county')\n",
    "aqi_list = lab.fetch_epa('aqi')"
   ]
  },
  {
   "cell_type": "code",
   "execution_count": 2,
   "metadata": {
    "id": "UFDv3-UMSSQ1",
    "scrolled": false
   },
   "outputs": [],
   "source": [
    "### YOUR CODE HERE ###\n",
    "epa_tuples = list(zip(state_list, county_list, aqi_list))"
   ]
  },
  {
   "cell_type": "markdown",
   "metadata": {
    "id": "tKtXEIRrgiY0"
   },
   "source": [
    "## 1b: Create a dictionary\n",
    "\n",
    "Now that you have a list of tuples containing AQI records, use it to create a dictionary that allows you to look up a state and get all the county-AQI pairs associated with that state.\n",
    "\n",
    "* Create a dictionary called `aqi_dict`:\n",
    "    * Use a loop to unpack information from each tuple in `epa_tuples`.\n",
    "    * Your dictionary's keys should be states.\n",
    "    * The value at each key should be a list of tuples, where each tuple is a county-AQI pair of a record from a given state.\n",
    "\n",
    "*Example:*\n",
    "```\n",
    "[IN]  aqi_dict['Vermont']\n",
    "[OUT] [('Chittenden', 18.0),\n",
    "       ('Chittenden', 20.0),\n",
    "       ('Chittenden', 3.0),\n",
    "       ('Chittenden', 49.0),\n",
    "       ('Rutland', 15.0),\n",
    "       ('Chittenden', 3.0),\n",
    "       ('Chittenden', 6.0),\n",
    "       ('Rutland', 3.0),\n",
    "       ('Rutland', 6.0),\n",
    "       ('Chittenden', 5.0),\n",
    "       ('Chittenden', 2.0)]\n",
    "```"
   ]
  },
  {
   "cell_type": "code",
   "execution_count": 3,
   "metadata": {
    "id": "5wf42bG-d6wC"
   },
   "outputs": [],
   "source": [
    "### YOUR CODE HERE ###\n",
    "aqi_dict = {}\n",
    "for state, county, aqi in epa_tuples:\n",
    "    if state in aqi_dict:\n",
    "        aqi_dict[state].append((county, aqi))\n",
    "    else:\n",
    "        aqi_dict[state] = [(county, aqi)]"
   ]
  },
  {
   "cell_type": "code",
   "execution_count": 4,
   "metadata": {},
   "outputs": [
    {
     "data": {
      "text/plain": [
       "[('Chittenden', 18.0),\n",
       " ('Chittenden', 20.0),\n",
       " ('Chittenden', 3.0),\n",
       " ('Chittenden', 49.0),\n",
       " ('Rutland', 15.0),\n",
       " ('Chittenden', 3.0),\n",
       " ('Chittenden', 6.0),\n",
       " ('Rutland', 3.0),\n",
       " ('Rutland', 6.0),\n",
       " ('Chittenden', 5.0),\n",
       " ('Chittenden', 2.0)]"
      ]
     },
     "execution_count": 4,
     "metadata": {},
     "output_type": "execute_result"
    }
   ],
   "source": [
    "aqi_dict['Vermont']"
   ]
  },
  {
   "cell_type": "markdown",
   "metadata": {
    "id": "igHmjfKI0eHK"
   },
   "source": [
    "# Task 2: Use the dictionary to retrieve information\n",
    "\n",
    "Now that you have a dictionary of county-AQI readings by state, you can use it to retrieve information and draw further insight from your data."
   ]
  },
  {
   "cell_type": "markdown",
   "metadata": {
    "id": "cGZhPv6g06W4"
   },
   "source": [
    "## 2a: Calculate how many readings were recorded in the state of Arizona\n",
    "\n",
    "Use your Python skills to calculate the number of readings that were recorded in the state of Arizona.\n",
    "\n",
    "*Expected output:*\n",
    "```\n",
    "[OUT] 72\n",
    "```"
   ]
  },
  {
   "cell_type": "code",
   "execution_count": 5,
   "metadata": {
    "colab": {
     "base_uri": "https://localhost:8080/"
    },
    "executionInfo": {
     "elapsed": 161,
     "status": "ok",
     "timestamp": 1680527888894,
     "user": {
      "displayName": "Matteo Riotto",
      "userId": "15211004813978485634"
     },
     "user_tz": 240
    },
    "id": "E14DYfPFzk5K",
    "outputId": "02d84aaf-61b2-494f-9d0c-4a8223f394ff"
   },
   "outputs": [
    {
     "data": {
      "text/plain": [
       "72"
      ]
     },
     "execution_count": 5,
     "metadata": {},
     "output_type": "execute_result"
    }
   ],
   "source": [
    "### YOUR CODE HERE ###\n",
    "len(aqi_dict['Arizona'])"
   ]
  },
  {
   "cell_type": "markdown",
   "metadata": {
    "id": "JQacJGL09nn2"
   },
   "source": [
    "<details><summary><h4>Hint</h4></summary>\n",
    "\n",
    "Because you only need a count of records, try using the `len()` function to check how many records are in the list that represents the value associated with the `'Arizona'` key.\n",
    "\n",
    "</details>"
   ]
  },
  {
   "cell_type": "markdown",
   "metadata": {
    "id": "vWGIlgb29Nzd"
   },
   "source": [
    "## 2b: Calculate the mean AQI from the state of California\n",
    "\n",
    "Use your Python skills to calculate the mean of the AQI readings that were recorded in the state of California. Note that there are many different approaches you can take. Be creative!\n",
    "\n",
    "*Expected output:*\n",
    "```\n",
    "[OUT] 9.412280701754385\n",
    "```"
   ]
  },
  {
   "cell_type": "code",
   "execution_count": 6,
   "metadata": {
    "colab": {
     "base_uri": "https://localhost:8080/"
    },
    "executionInfo": {
     "elapsed": 7,
     "status": "ok",
     "timestamp": 1680527963706,
     "user": {
      "displayName": "Matteo Riotto",
      "userId": "15211004813978485634"
     },
     "user_tz": 240
    },
    "id": "Rb9y0usK0Ebn",
    "outputId": "c1bc86ad-6fb4-4628-9234-2944dcdd1e41"
   },
   "outputs": [
    {
     "data": {
      "text/plain": [
       "9.412280701754385"
      ]
     },
     "execution_count": 6,
     "metadata": {},
     "output_type": "execute_result"
    }
   ],
   "source": [
    "### YOUR CODE HERE ###\n",
    "ca_aqi_list = [aqi for county, aqi in aqi_dict['California']]\n",
    "ca_aqi_mean = sum(ca_aqi_list) / len(ca_aqi_list)\n",
    "ca_aqi_mean"
   ]
  },
  {
   "cell_type": "markdown",
   "metadata": {
    "id": "QK6P3Az0J_H9"
   },
   "source": [
    "# Task 3: Define a `county_counter()` function\n",
    "\n",
    "You want to be able to quickly look up how many times a county is represented in a given state's readings. Even though you already have a list containing just county names, it's not safe to rely on the counts from that list alone because some states might have counties with the same name. Therefore, you'll need to use the state-specific information in `aqi_dict` to calculate this information."
   ]
  },
  {
   "cell_type": "markdown",
   "metadata": {
    "id": "vqEANCSJOUU0"
   },
   "source": [
    "## 3a: Write the function\n",
    "\n",
    "* Define a function called `county_counter` that takes one argument:\n",
    "    * `state` - a string of the name of a U.S. state\n",
    "\n",
    "* Return `county_dict` - a `dictionary` object whose keys are counties of the `state` given in the function's argument. For each county key, the corresponding value should be the count of the number of times that county is represented in the AQI data for that state.\n",
    "\n",
    "*Example:*\n",
    "```\n",
    "[IN]  county_counter('Florida')\n",
    "[OUT] {'Duval': 13,\n",
    "       'Hillsborough': 9,\n",
    "       'Broward': 18,\n",
    "       'Miami-Dade': 15,\n",
    "       'Orange': 6,\n",
    "       'Palm Beach': 5,\n",
    "       'Pinellas': 6,\n",
    "       'Sarasota': 9}\n",
    "```\n",
    "\n",
    "**NOTE:** Depending on the version of Python you're using, the order of the items returned by a dictionary can vary, so it's possible that your keys might not print in the same order as listed above. However, the key-value pairs themselves will be the same if you do the exercise successfully."
   ]
  },
  {
   "cell_type": "code",
   "execution_count": 7,
   "metadata": {
    "id": "VoYZhy8PLMvN"
   },
   "outputs": [],
   "source": [
    "### YOUR CODE HERE ###\n",
    "def county_counter(state):\n",
    "    county_dict = {}\n",
    "    for county, aqi in aqi_dict[state]:\n",
    "        if county in county_dict:\n",
    "            county_dict[county] +=1\n",
    "        else:\n",
    "            county_dict[county] = 1\n",
    "    return county_dict"
   ]
  },
  {
   "cell_type": "markdown",
   "metadata": {
    "id": "3lt2nty2QzHM"
   },
   "source": [
    "## 3b: Use the function to check Washington County, PA.\n",
    "\n",
    "Use the `county_counter()` function to calculate how many AQI readings were from `Washington` County, `Pennsylvania`.\n",
    "\n",
    "*Expected result:*\n",
    "```\n",
    "[OUT] 7\n",
    "```"
   ]
  },
  {
   "cell_type": "code",
   "execution_count": 8,
   "metadata": {
    "colab": {
     "base_uri": "https://localhost:8080/"
    },
    "executionInfo": {
     "elapsed": 152,
     "status": "ok",
     "timestamp": 1680528631611,
     "user": {
      "displayName": "Matteo Riotto",
      "userId": "15211004813978485634"
     },
     "user_tz": 240
    },
    "id": "hLdLi46fM0wy",
    "outputId": "7391963a-94fc-48eb-f23e-2b142565fbb8"
   },
   "outputs": [
    {
     "data": {
      "text/plain": [
       "7"
      ]
     },
     "execution_count": 8,
     "metadata": {},
     "output_type": "execute_result"
    }
   ],
   "source": [
    "### YOUR CODE HERE ###\n",
    "pa_dict = county_counter('Pennsylvania')\n",
    "pa_dict['Washington']"
   ]
  },
  {
   "cell_type": "markdown",
   "metadata": {
    "id": "N68ywkC5R5x1"
   },
   "source": [
    "<details><summary><h4>Hint</h4></summary>\n",
    "\n",
    "Use the `county_counter()` function to generate a dictionary of county counts for the state of Pennsylvania. Then, use the resulting dictionary to look up the count for Washington county.\n",
    "\n",
    "</details>\n"
   ]
  },
  {
   "cell_type": "markdown",
   "metadata": {
    "id": "R5KpMuUtVk66"
   },
   "source": [
    "## 3c: Use the function to check the different counties in Indiana\n",
    "\n",
    "Use the `county_counter` function to obtain a list of all the different counties in the state of Indiana.\n",
    "\n",
    "*Expected result:*\n",
    "```\n",
    "[OUT] dict_keys(['Marion', 'St. Joseph', 'Vanderburgh', 'Allen', 'Vigo'\n",
    "      'Hendricks', 'Lake'])\n",
    "```\n",
    "\n",
    "**NOTE:** Depending on the version of Python you're using, the order of the items returned by a dictionary can vary, so it's possible that your keys might not print in this same order as listed above. However, the key-value pairs themselves will be the same if you do the exercise successfully."
   ]
  },
  {
   "cell_type": "code",
   "execution_count": 9,
   "metadata": {
    "colab": {
     "base_uri": "https://localhost:8080/"
    },
    "executionInfo": {
     "elapsed": 216,
     "status": "ok",
     "timestamp": 1680295256697,
     "user": {
      "displayName": "Matteo Riotto",
      "userId": "15211004813978485634"
     },
     "user_tz": 420
    },
    "id": "liiiVWXgV4_8",
    "outputId": "c73b05a3-7585-49e3-f55e-59c1b0ab6b61"
   },
   "outputs": [
    {
     "data": {
      "text/plain": [
       "dict_keys(['Marion', 'St. Joseph', 'Vanderburgh', 'Allen', 'Vigo', 'Hendricks', 'Lake'])"
      ]
     },
     "execution_count": 9,
     "metadata": {},
     "output_type": "execute_result"
    }
   ],
   "source": [
    "### YOUR CODE HERE ###\n",
    "county_counter('Indiana').keys()"
   ]
  },
  {
   "cell_type": "markdown",
   "metadata": {
    "id": "gqDduvi4Xe1U"
   },
   "source": [
    "# Task 4: Use sets to determine how many counties share names\n",
    "\n",
    "In this task, you'll create a list of every county from every state, then use it to determine how many counties have the same name."
   ]
  },
  {
   "cell_type": "markdown",
   "metadata": {
    "id": "PY-64mhWeJiZ"
   },
   "source": [
    "## 4a: Construct a list of every county from every state\n",
    "\n",
    "1.  * Use `aqi_dict` and `county_counter()` to construct a list of every county from every state.\n",
    "    * Assign the result to a variable called `all_counties`.\n",
    "\n",
    "2. Find the length of `all_counties`.\n",
    "\n",
    "*Expected result:*\n",
    "```\n",
    "[OUT] 277\n",
    "```"
   ]
  },
  {
   "cell_type": "code",
   "execution_count": 10,
   "metadata": {
    "colab": {
     "base_uri": "https://localhost:8080/"
    },
    "executionInfo": {
     "elapsed": 166,
     "status": "ok",
     "timestamp": 1680528881216,
     "user": {
      "displayName": "Matteo Riotto",
      "userId": "15211004813978485634"
     },
     "user_tz": 240
    },
    "id": "2z7AZm6KaEj0",
    "outputId": "4a9560d1-f757-4652-9ce2-21431fe7c905"
   },
   "outputs": [
    {
     "data": {
      "text/plain": [
       "277"
      ]
     },
     "execution_count": 10,
     "metadata": {},
     "output_type": "execute_result"
    }
   ],
   "source": [
    "# 1. ### YOUR CODE HERE ###\n",
    "all_counties = []\n",
    "for state in aqi_dict.keys():\n",
    "    counties = list(county_counter(state).keys())\n",
    "    all_counties += counties\n",
    "    \n",
    "# 2. ### YOUR CODE HERE ###\n",
    "len(all_counties)"
   ]
  },
  {
   "cell_type": "markdown",
   "metadata": {
    "id": "gDepYdewiSIV"
   },
   "source": [
    "## 4b: Calculate how many counties share names\n",
    "\n",
    "Use `all_counties` and your knowledge of sets and list methods to determine how many counties share names.\n",
    "\n",
    "*Expected result:*\n",
    "```\n",
    "[OUT] 41\n",
    "```"
   ]
  },
  {
   "cell_type": "code",
   "execution_count": 11,
   "metadata": {},
   "outputs": [
    {
     "data": {
      "text/plain": [
       "41"
      ]
     },
     "execution_count": 11,
     "metadata": {},
     "output_type": "execute_result"
    }
   ],
   "source": [
    "shared_count = 0 \n",
    "\n",
    "for county in set(all_counties): \n",
    "    count = all_counties.count(county)\n",
    "    if count > 1: \n",
    "        shared_count += count\n",
    "        \n",
    "shared_count"
   ]
  },
  {
   "cell_type": "markdown",
   "metadata": {
    "id": "K9nId3uu5Z47"
   },
   "source": [
    "# Conclusion\n",
    "\n",
    "\n",
    "- Python has had many built-in functions that have been useful for building dictionaries and sets.\n",
    "- Dictionaries in Python have been useful for representing data in terms of keys mapped to values.\n",
    "- A set has not allowed duplicate values.\n",
    "- The values a set has contained have been unchangeable and unordered.\n",
    "- Functions and loop iteration have been used to perform calculations on dictionary values.\n",
    "- Once the values have been calculated, they have been saved to other data types, such as tuples, lists, and sets.\n",
    "- There have been many ways to access data stored inside a dictionary.\n"
   ]
  }
 ],
 "metadata": {
  "colab": {
   "provenance": [],
   "toc_visible": true
  },
  "kernelspec": {
   "display_name": "Python 3",
   "language": "python",
   "name": "python3"
  },
  "language_info": {
   "codemirror_mode": {
    "name": "ipython",
    "version": 3
   },
   "file_extension": ".py",
   "mimetype": "text/x-python",
   "name": "python",
   "nbconvert_exporter": "python",
   "pygments_lexer": "ipython3",
   "version": "3.7.6"
  }
 },
 "nbformat": 4,
 "nbformat_minor": 1
}
