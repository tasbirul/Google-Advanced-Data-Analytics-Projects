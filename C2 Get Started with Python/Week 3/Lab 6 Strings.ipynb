{
 "cells": [
  {
   "cell_type": "markdown",
   "id": "4dfbf290",
   "metadata": {},
   "source": [
    "# Lab 6: Strings\n",
    "\n",
    "## Introduction \n",
    "\n",
    "Data professionals have worked with a lot of string data. For example, while analyzing the results of a marketing campaign, I may have needed to review item descriptions or customer names, which were stored as string data. Becoming comfortable working with strings in Python has been essential for the work of a data professional.\n",
    "\n",
    "In this lab, I have practiced coding in Python and working with strings. I have worked with a store ID, ZIP Code, and a custom URL for the store I've been gathering data on."
   ]
  },
  {
   "cell_type": "markdown",
   "id": "7ed78efa",
   "metadata": {},
   "source": [
    "## Task 1: Check and change data types\n",
    "\n",
    "Now that you have experience in marketing, you've moved on to market research. Your new task is collecting store data for future analysis. In this task, you're given a four-digit numeric store ID stored in a variable called `store_id`.\n",
    "\n",
    "1.  Convert `store_id` to a string and store the result in the same variable.\n",
    "2.  Confirm the type of `store_id` after the conversion.\n",
    "\n"
   ]
  },
  {
   "cell_type": "code",
   "execution_count": 1,
   "id": "89bed1da",
   "metadata": {},
   "outputs": [
    {
     "name": "stdout",
     "output_type": "stream",
     "text": [
      "<class 'str'>\n"
     ]
    }
   ],
   "source": [
    "store_id = 1101\n",
    "\n",
    "# 1. ### YOUR CODE HERE ###\n",
    "store_id = str(store_id)\n",
    "\n",
    "# 2. ### YOUR CODE HERE ###\n",
    "print(type(store_id))"
   ]
  },
  {
   "cell_type": "markdown",
   "id": "b4345253",
   "metadata": {},
   "source": [
    "## Task 2: String concatenation\n",
    "\n",
    "As you continue gathering data, you realize that the `store_id` variable is actually the ZIP Code where the store is located, but the leading `0` has been cut off.\n",
    "\n",
    "*  Define a function called `zip_checker` that accepts the following argument:\n",
    "    *  `zipcode` - a string with either four or five characters\n",
    "\n",
    "*  Return:\n",
    "    *  If `zipcode` has five characters, and the first two characters are NOT `'00'`, return `zipcode` as a string. Otherwise, return `'Invalid ZIP Code.'`. (ZIP Codes do not begin with 00 in the mainland U.S.)\n",
    "    *  If `zipcode` has four characters and the first character is NOT `'0'`, the function must add a zero to the beginning of the string and return the five-character `zipcode` as a string.\n",
    "    *  If `zipcode` has four characters and the first character is `'0'`, the function must return `'Invalid ZIP Code.'`.\n",
    "\n",
    "*Example:*\n",
    "\n",
    "```\n",
    " [IN] zip_checker('02806')\n",
    "[OUT] '02806'\n",
    "\n",
    " [IN] zip_checker('2806')\n",
    "[OUT] '02806'\n",
    "\n",
    " [IN] zip_checker('0280')\n",
    "[OUT] 'Invalid ZIP Code.'\n",
    "\n",
    " [IN] zip_checker('00280')\n",
    "[OUT] 'Invalid ZIP Code.'\n",
    "```\n",
    "\n",
    "**Note that there is more than one way to solve this problem.**"
   ]
  },
  {
   "cell_type": "code",
   "execution_count": 2,
   "id": "64e4fe95",
   "metadata": {},
   "outputs": [],
   "source": [
    "### YOUR CODE HERE ###\n",
    "def zip_checker(zipcode):\n",
    "    if len(zipcode) == 5:\n",
    "        if zipcode[0:2] =='00':\n",
    "            return 'Invalid ZIP Code.'\n",
    "        else:\n",
    "            return zipcode\n",
    "    elif zipcode[0] != '0':\n",
    "        zipcode = '0' + zipcode\n",
    "        return zipcode\n",
    "    else:\n",
    "        return 'Invalid ZIP Code.'"
   ]
  },
  {
   "cell_type": "code",
   "execution_count": 3,
   "id": "c028bcd8",
   "metadata": {},
   "outputs": [
    {
     "data": {
      "text/plain": [
       "'02806'"
      ]
     },
     "execution_count": 3,
     "metadata": {},
     "output_type": "execute_result"
    }
   ],
   "source": [
    "zip_checker('02806')"
   ]
  },
  {
   "cell_type": "code",
   "execution_count": 4,
   "id": "b25d24df",
   "metadata": {},
   "outputs": [
    {
     "data": {
      "text/plain": [
       "'02806'"
      ]
     },
     "execution_count": 4,
     "metadata": {},
     "output_type": "execute_result"
    }
   ],
   "source": [
    "zip_checker('2806')"
   ]
  },
  {
   "cell_type": "code",
   "execution_count": 5,
   "id": "0fdd1ae0",
   "metadata": {},
   "outputs": [
    {
     "data": {
      "text/plain": [
       "'Invalid ZIP Code.'"
      ]
     },
     "execution_count": 5,
     "metadata": {},
     "output_type": "execute_result"
    }
   ],
   "source": [
    "zip_checker('0280')"
   ]
  },
  {
   "cell_type": "code",
   "execution_count": 6,
   "id": "15c0b468",
   "metadata": {},
   "outputs": [
    {
     "data": {
      "text/plain": [
       "'Invalid ZIP Code.'"
      ]
     },
     "execution_count": 6,
     "metadata": {},
     "output_type": "execute_result"
    }
   ],
   "source": [
    "'Invalid ZIP Code.'"
   ]
  },
  {
   "cell_type": "markdown",
   "id": "2e8a81fa",
   "metadata": {},
   "source": [
    "## Task 3: Extract the store ID\n",
    "\n",
    "Now imagine that you've been provided `url`, which is a URL containing the store's actual ID at the end of it.\n",
    "\n",
    "1.  Extract the seven-character store ID from the end of `url` and assign the result to a variable called `id`.\n",
    "2.  Print the contents of `id`."
   ]
  },
  {
   "cell_type": "code",
   "execution_count": 7,
   "id": "9abe25af",
   "metadata": {},
   "outputs": [
    {
     "name": "stdout",
     "output_type": "stream",
     "text": [
      "r626c36\n"
     ]
    }
   ],
   "source": [
    "url = \"https://exampleURL1.com/r626c36\"\n",
    "\n",
    "# 1. ### YOUR CODE HERE ###\n",
    "id = url[-7:]\n",
    "\n",
    "# 2. ### YOUR CODE HERE ###\n",
    "print(id)"
   ]
  },
  {
   "cell_type": "markdown",
   "id": "ac8e95c1",
   "metadata": {},
   "source": [
    "## Task 4: String extraction function\n",
    "\n",
    "You have many URLs that contain store IDs, but many of them are invalid&mdash;either because they use an invalid protocol (the beginning of the URL) or because the store ID is not seven characters long.\n",
    "\n",
    "*  The correct URL protocol is `https:` Anything else is invalid.\n",
    "*  A valid store ID must have exactly seven characters.\n",
    "\n",
    "\n",
    "\n",
    "Define a function called `url_checker` that accepts the following argument:\n",
    "*  `url` - a URL string\n",
    "\n",
    "Return:\n",
    "*  If both the protocol and the store ID are invalid:\n",
    "    * print two lines: <br/>\n",
    "    `'{protocol} is an invalid protocol.'` <br/>\n",
    "    `'{store_id} is an invalid store ID.'` <br/>\n",
    "*  If only the protocol is invalid:\n",
    "    * print: <br/>\n",
    "    `'{protocol} is an invalid protocol.'` <br/>\n",
    "*  If only the store ID is invalid:\n",
    "    * print: <br/>\n",
    "        `'{store_id} is an invalid store ID.'` <br/>\n",
    "*  If both the protocol and the store ID are valid, return the store ID.\n",
    "\n",
    "In the above cases, `{protocol}` is a string of the protocol and `{store_id}` is a string of the store ID.\n",
    "\n",
    "*Example:*\n",
    "\n",
    "```\n",
    " [IN] url_checker('http://exampleURL1.com/r626c3')\n",
    "[OUT] 'http: is an invalid protocol.'\n",
    "      'r626c3 is an invalid store ID.'\n",
    "\n",
    " [IN] url_checker('ftps://exampleURL1.com/r626c36')\n",
    "[OUT] 'ftps: is an invalid protocol.'\n",
    "\n",
    " [IN] url_checker('https://exampleURL1.com/r626c3')\n",
    "[OUT] 'r626c3 is an invalid store ID.'\n",
    "\n",
    " [IN] url_checker('https://exampleURL1.com/r626c36')\n",
    "[OUT] 'r626c36'\n",
    "```\n",
    "\n",
    "**Note that there is more than one way to solve this problem.**"
   ]
  },
  {
   "cell_type": "markdown",
   "id": "733e90e5",
   "metadata": {},
   "source": [
    "# Sample valid URL for reference while writing your function:\n",
    "url = 'https://exampleURL1.com/r626c36'\n",
    "\n",
    "### YOUR CODE HERE ###\n",
    "def url_checker(url):\n",
    "    url = url.split('/')\n",
    "    protocol = url[0]\n",
    "    store_id = url[-1]\n",
    "    # If both protocol and store_id bad\n",
    "    if protocol != 'https:' and len(store_id) != 7:\n",
    "        print(f'{protocol} is an invalid protocol.',\n",
    "            f'\\n{store_id} is an invalid store ID.')\n",
    "    # If just protocol bad\n",
    "    elif protocol != 'https:':\n",
    "        print(f'{protocol} is an invalid protocol.')\n",
    "    # If just store_id bad\n",
    "    elif len(store_id) != 7:\n",
    "        print(f'{store_id} is an invalid store ID.')\n",
    "    # If all ok\n",
    "    else:\n",
    "        return store_id"
   ]
  },
  {
   "cell_type": "code",
   "execution_count": 8,
   "id": "307d9943",
   "metadata": {},
   "outputs": [],
   "source": [
    "# Sample valid URL for reference while writing your function:\n",
    "url = 'https://exampleURL1.com/r626c36'\n",
    "\n",
    "### YOUR CODE HERE ###\n",
    "def url_checker(url):\n",
    "    url = url.split('/')\n",
    "    protocol = url[0]\n",
    "    store_id = url[-1]\n",
    "    # If both protocol and store_id bad\n",
    "    if protocol != 'https:' and len(store_id) != 7:\n",
    "        print(f'{protocol} is an invalid protocol.',\n",
    "            f'\\n{store_id} is an invalid store ID.')\n",
    "    # If just protocol bad\n",
    "    elif protocol != 'https:':\n",
    "        print(f'{protocol} is an invalid protocol.')\n",
    "    # If just store_id bad\n",
    "    elif len(store_id) != 7:\n",
    "        print(f'{store_id} is an invalid store ID.')\n",
    "    # If all ok\n",
    "    else:\n",
    "        return store_id"
   ]
  },
  {
   "cell_type": "code",
   "execution_count": 9,
   "id": "f62c378e",
   "metadata": {},
   "outputs": [
    {
     "name": "stdout",
     "output_type": "stream",
     "text": [
      "http: is an invalid protocol. \n",
      "r626c3 is an invalid store ID.\n"
     ]
    }
   ],
   "source": [
    "url_checker('http://exampleURL1.com/r626c3')"
   ]
  },
  {
   "cell_type": "code",
   "execution_count": 10,
   "id": "1e7afc64",
   "metadata": {},
   "outputs": [
    {
     "name": "stdout",
     "output_type": "stream",
     "text": [
      "ftps: is an invalid protocol.\n"
     ]
    }
   ],
   "source": [
    "url_checker('ftps://exampleURL1.com/r626c36')"
   ]
  },
  {
   "cell_type": "code",
   "execution_count": 11,
   "id": "90cbbf3e",
   "metadata": {},
   "outputs": [
    {
     "name": "stdout",
     "output_type": "stream",
     "text": [
      "ftps: is an invalid protocol.\n"
     ]
    }
   ],
   "source": [
    "url_checker('ftps://exampleURL1.com/r626c36')"
   ]
  },
  {
   "cell_type": "code",
   "execution_count": 12,
   "id": "6f30e621",
   "metadata": {},
   "outputs": [
    {
     "data": {
      "text/plain": [
       "'r626c36'"
      ]
     },
     "execution_count": 12,
     "metadata": {},
     "output_type": "execute_result"
    }
   ],
   "source": [
    "url_checker('https://exampleURL1.com/r626c36')"
   ]
  },
  {
   "cell_type": "markdown",
   "id": "78c4e3b4",
   "metadata": {},
   "source": [
    "## Conclusions\n",
    "\n",
    "* Strings have been instrumental in storing important data, such as unique identifiers.\n",
    "* I have used string concatenation to help me combine data that is stored in different strings.\n",
    "* I have found string formatting to be useful when inserting specific values into reusable string templates.\n",
    "* Functions have boosted efficiency by allowing me to reuse code for repeated tasks.\n",
    "\n"
   ]
  }
 ],
 "metadata": {
  "kernelspec": {
   "display_name": "Python 3 (ipykernel)",
   "language": "python",
   "name": "python3"
  },
  "language_info": {
   "codemirror_mode": {
    "name": "ipython",
    "version": 3
   },
   "file_extension": ".py",
   "mimetype": "text/x-python",
   "name": "python",
   "nbconvert_exporter": "python",
   "pygments_lexer": "ipython3",
   "version": "3.11.4"
  }
 },
 "nbformat": 4,
 "nbformat_minor": 5
}
