{
 "cells": [
  {
   "cell_type": "markdown",
   "id": "d6ed001f",
   "metadata": {},
   "source": [
    "# Lab 5: For Loops\n",
    "\n",
    "## Introduction \n",
    "\n",
    "As a data professional, I may have needed to use methods that involve repetition. For example, when analyzing customer feedback from surveys, I may have needed to compare averages across categories. In Python, using iterative statements has helped me automate this task and make it more efficient.\n",
    "\n",
    "In this lab, I have practiced writing iterative statements using `for` loops."
   ]
  },
  {
   "cell_type": "markdown",
   "id": "53c82587",
   "metadata": {},
   "source": [
    "## Task 1: Iterating with `if`, `elif`, and `else`\n",
    "\n",
    "In your work as an analyst, you have received customer feedback for a newly launched product. The feedback is a numerical grade on a scale of 1-10, with 10 being the best. Understanding the number of customers who responded negatively, neutrally, or positively will help determine how to improve the product.\n",
    "\n",
    "*  Define a function called `score_counter` that accepts the following argument:\n",
    "    * `score_list` - a list of customer-submitted scores, where each score is an integer, 1-10\n",
    "\n",
    "*  The function must iterate over the elements of `score_list` and bin the scores into three bins:\n",
    "\n",
    "| Negative | Neutral | Positive |\n",
    "| :-: | :-: | :-: |\n",
    "| 1-5 | 6-8 | 9-10 |\n",
    "\n",
    "*  The output of the function must be three statements, each on its own line:\n",
    "\n",
    "    1. `'Negative: {n_negative_scores}'`\n",
    "    2. `'Neutral: {n_neutral_scores}'`\n",
    "    3. `'Positive: {n_positive_scores}'`\n",
    "\n",
    "*Example:*\n",
    "\n",
    "```\n",
    " [IN] score_counter([1, 2, 3, 4, 5, 6, 7, 8, 9, 10])\n",
    "[OUT] 'Negative: 5'\n",
    "      'Neutral: 3'\n",
    "      'Positive: 2'\n",
    "```\n",
    "**Note that there is more than one way to solve this problem.**"
   ]
  },
  {
   "cell_type": "code",
   "execution_count": 1,
   "id": "a4b1b7fb",
   "metadata": {},
   "outputs": [],
   "source": [
    "### YOUR CODE HERE ###\n",
    "def score_counter(score_list):\n",
    "    negative_scores = 0\n",
    "    neutral_scores = 0\n",
    "    positive_scores = 0\n",
    "\n",
    "    for score in score_list:\n",
    "        if score >= 9:\n",
    "            positive_scores += 1\n",
    "        elif score >= 6:\n",
    "            neutral_scores += 1\n",
    "        else:\n",
    "            negative_scores += 1\n",
    "\n",
    "    print(\"Negative:\", negative_scores)\n",
    "    print(\"Neutral:\", neutral_scores)\n",
    "    print(\"Positive:\", positive_scores)"
   ]
  },
  {
   "cell_type": "markdown",
   "id": "44524f7c",
   "metadata": {},
   "source": [
    "### Test your function\n",
    "Test your function against the following cases by running the cell below."
   ]
  },
  {
   "cell_type": "code",
   "execution_count": 2,
   "id": "51aae0ac",
   "metadata": {},
   "outputs": [
    {
     "name": "stdout",
     "output_type": "stream",
     "text": [
      "Test 1:\n",
      "Negative: 5\n",
      "Neutral: 1\n",
      "Positive: 4\n",
      "\n",
      "Test 2:\n",
      "Negative: 85\n",
      "Neutral: 253\n",
      "Positive: 112\n",
      "\n",
      "Test 3:\n",
      "Negative: 1935\n",
      "Neutral: 2652\n",
      "Positive: 5413\n"
     ]
    }
   ],
   "source": [
    "# RUN THIS CELL TO TEST YOUR FUNCTION\n",
    "import random\n",
    "\n",
    "random.seed(42)\n",
    "\n",
    "possible_scores = list(range(1, 11))\n",
    "score_list1 = random.choices(\n",
    "    possible_scores, weights=[8, 8, 8, 8, 8, 3, 3, 4, 20, 30], k=10\n",
    ")\n",
    "score_list2 = random.choices(\n",
    "    possible_scores, weights=[1, 2, 3, 4, 5, 10, 15, 15, 7, 9], k=450\n",
    ")\n",
    "score_list3 = random.choices(\n",
    "    possible_scores, weights=[1, 2, 3, 4, 4, 5, 5, 10, 15, 25], k=10000\n",
    ")\n",
    "\n",
    "print(\"Test 1:\")  \n",
    "score_counter(score_list1) \n",
    "print(\"\\nTest 2:\")\n",
    "score_counter(score_list2)  \n",
    "print(\"\\nTest 3:\")\n",
    "score_counter(score_list3) "
   ]
  },
  {
   "cell_type": "markdown",
   "id": "0fdf4b66",
   "metadata": {},
   "source": [
    "## Task 2: Create a `for` loop using `if`, `not`, and `in`\n",
    "\n",
    "There is concern that some of the customer feedback scores are fake. One way to check the integrity of the feedback is to identify how many scores came from verified customers.\n",
    "\n",
    "In this task, you are provided with two lists: a list of verified customer IDs and a list of all IDs that left feedback scores. You must validate the data by cross-checking the lists against each other.\n",
    "\n",
    "<br/>\n",
    "\n",
    "* Define a function called `id_validator` that takes two lists as arguments:\n",
    "    *  `verified_ids` - a list containing IDs of verified customers\n",
    "    *  `feedback_ids` - a list containing unique IDs of all posters of feedback scores\n",
    "\n",
    "*  The output of the function must be two statements, each on its own line:\n",
    "    1. `'{num_unverified_ids} of {num_feedback_ids} unverified.'`\n",
    "    2. `'{percent} unverified.'`\n",
    "\n",
    "*Example:*\n",
    "\n",
    "```\n",
    " [IN]  id_validator(verified_ids=['1', '2'], feedback_ids=['1', '2', '3'])\n",
    "[OUT]  '1 of 3 IDs unverified.'\n",
    "       '33.33% unverified.'\n",
    "\n",
    " [IN]  id_validator(verified_ids=['1a', '2b', '3c'], feedback_ids=['1a', '4d'])\n",
    "[OUT]  '1 of 2 IDs unverified.'\n",
    "       '50.0% unverified.'\n",
    "```\n",
    "**Note that there is more than one way to solve this problem.**"
   ]
  },
  {
   "cell_type": "code",
   "execution_count": 3,
   "id": "3c49bbc7",
   "metadata": {},
   "outputs": [],
   "source": [
    "### YOUR CODE HERE ###\n",
    "def id_validator(verified_ids, feedback_ids):\n",
    "    unverified_feedback = 0\n",
    "    for id in feedback_ids:\n",
    "        if id not in verified_ids:\n",
    "            unverified_feedback += 1\n",
    "    percent_unverified = unverified_feedback / len(feedback_ids) * 100\n",
    "    print(unverified_feedback, \"of\", len(feedback_ids), \"IDs unverified.\")\n",
    "    print(str(round(percent_unverified, 2)) + \"% unverified.\")"
   ]
  },
  {
   "cell_type": "code",
   "execution_count": 5,
   "id": "230317f3",
   "metadata": {},
   "outputs": [
    {
     "name": "stdout",
     "output_type": "stream",
     "text": [
      "1 of 3 IDs unverified.\n",
      "33.33% unverified.\n"
     ]
    }
   ],
   "source": [
    "id_validator(verified_ids=['1', '2'], feedback_ids=['1', '2', '3'])"
   ]
  },
  {
   "cell_type": "code",
   "execution_count": 6,
   "id": "bb5ed3fd",
   "metadata": {},
   "outputs": [
    {
     "name": "stdout",
     "output_type": "stream",
     "text": [
      "1 of 2 IDs unverified.\n",
      "50.0% unverified.\n"
     ]
    }
   ],
   "source": [
    "id_validator(verified_ids=['1a', '2b', '3c'], feedback_ids=['1a', '4d'])"
   ]
  },
  {
   "cell_type": "markdown",
   "id": "138f9757",
   "metadata": {},
   "source": [
    "# Task 3: Create a nested loop\n",
    "\n",
    "You've been asked to calculate the total value of all purchases made by each customer to understand how many customers have spent $100+.\n",
    "\n",
    "*  Write a function called `purchases_100` that accepts the following argument:\n",
    "    * `sales` - a list of lists where each inner list contains the prices of items purchased by a unique customer.\n",
    "\n",
    "* The function must return the number of customers whose purchases summed to $100 or more.\n",
    "\n",
    "*Example:*\n",
    "\n",
    "```\n",
    "sales = [[2.75], [50.0, 50.0], [150.46, 200.12, 97.30]]\n",
    "\n",
    " [IN]  purchases_100(sales)\n",
    "[OUT]  2\n",
    "```\n",
    "\n",
    "**Note that there is more than one way to solve this problem.**"
   ]
  },
  {
   "cell_type": "code",
   "execution_count": 7,
   "id": "7164a2f0",
   "metadata": {},
   "outputs": [],
   "source": [
    "### YOUR CODE HERE ###\n",
    "\n",
    "def purchases_100(sales):\n",
    "    count = 0                          \n",
    "    for customer in sales:              \n",
    "        customer_total = 0              \n",
    "        for purchase in customer:       \n",
    "            customer_total += purchase  \n",
    "        if customer_total >= 100:       \n",
    "                                        \n",
    "            count+=1                   \n",
    "    return count"
   ]
  },
  {
   "cell_type": "code",
   "execution_count": 8,
   "id": "5dade5cd",
   "metadata": {},
   "outputs": [
    {
     "data": {
      "text/plain": [
       "2"
      ]
     },
     "execution_count": 8,
     "metadata": {},
     "output_type": "execute_result"
    }
   ],
   "source": [
    "sales = [[2.75], [50.0, 50.0], [150.46, 200.12, 97.30]]\n",
    "\n",
    "purchases_100(sales)"
   ]
  },
  {
   "cell_type": "markdown",
   "id": "7180e44c",
   "metadata": {},
   "source": [
    "# Conclusion\n",
    "\n",
    "- Iterative statements have played a major role in automating repetitive analyses.\n",
    "- I have used for loops to allow me to repeat a process a specified number of times.\n",
    "- I have used if, elif, else, logical, and comparative operators together within a for loop to specify which values to iterate through.\n",
    "- Python built-in functions have been versatile and I have applied them within loops, functions, or as stand-alone tools."
   ]
  }
 ],
 "metadata": {
  "kernelspec": {
   "display_name": "Python 3 (ipykernel)",
   "language": "python",
   "name": "python3"
  },
  "language_info": {
   "codemirror_mode": {
    "name": "ipython",
    "version": 3
   },
   "file_extension": ".py",
   "mimetype": "text/x-python",
   "name": "python",
   "nbconvert_exporter": "python",
   "pygments_lexer": "ipython3",
   "version": "3.11.4"
  }
 },
 "nbformat": 4,
 "nbformat_minor": 5
}
