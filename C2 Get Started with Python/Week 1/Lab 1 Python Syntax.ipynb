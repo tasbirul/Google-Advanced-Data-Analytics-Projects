{
 "cells": [
  {
   "cell_type": "markdown",
   "id": "55d04413",
   "metadata": {},
   "source": [
    "# Lab 1: Python Syntax\n",
    "\n",
    "## Introduction \n",
    "In this lab, I have practiced Python syntax by creating variables, checking the data types of variables, creating precise variable names, and completing data conversions.\n",
    "\n",
    "For this activity, I have imagined myself as a data professional analyzing the users that log in to purchase tickets at a movie theater. I have saved the theater's unique identification code to a variable, studied the number of tickets sold, and the data types I'll be working with.\n",
    "\n",
    "Throughout this lab, I have practiced assigning variables, viewing the values saved to the variables, and checking their data types.\n",
    "\n",
    "## Task 1: Assign the theater ID to a variable\n",
    "\n",
    "In your work as an analyst, imagine you are considering sales at a specific theater and you want to save the theater's unique identification, which is `\"b79cn10k\"`, to a variable. By doing this, you'll be able to access the ID easily if you need it later. In the following code cell:\n",
    "\n",
    "1. Assign the theater's unique identification to a variable named `theater_id`.\n",
    "\n",
    "2. Display the contents of the `theater_id` variable.\n",
    "\n",
    "Be sure to replace each `### YOUR CODE HERE ###` with your own code before you run the following cell."
   ]
  },
  {
   "cell_type": "code",
   "execution_count": 1,
   "id": "43352f9f",
   "metadata": {},
   "outputs": [
    {
     "name": "stdout",
     "output_type": "stream",
     "text": [
      "b79cn10k\n"
     ]
    }
   ],
   "source": [
    "# 1.\n",
    "theater_id = \"b79cn10k\"\n",
    "\n",
    "# 2.\n",
    "print(theater_id)"
   ]
  },
  {
   "cell_type": "markdown",
   "id": "3846b663",
   "metadata": {},
   "source": [
    "## Task 2: Create a ticket type variable\n",
    "\n",
    "As you continue your work, you're provided a list of the different types of tickets sold by the theater: `\"Senior\"`, `\"Adult\"`, and `\"Youth\"`. In this task, focus on the `\"Adult\"` ticket type.\n",
    "\n",
    "1.  Create a variable called `ticket_type` and assign it a value of `\"Adult\"`.\n",
    "2.  Display the contents of the `ticket_type` variable."
   ]
  },
  {
   "cell_type": "code",
   "execution_count": 2,
   "id": "10d3411c",
   "metadata": {},
   "outputs": [
    {
     "name": "stdout",
     "output_type": "stream",
     "text": [
      "Adult\n"
     ]
    }
   ],
   "source": [
    "# 1.\n",
    "ticket_type = \"Adult\"\n",
    "\n",
    "# 2.\n",
    "print(ticket_type)"
   ]
  },
  {
   "cell_type": "markdown",
   "id": "6740167e",
   "metadata": {},
   "source": [
    "## Task 3: Save the number of adult tickets to a variable and check the data type\n",
    "\n",
    "Now that you've recorded the types of tickets being sold, it's time to record the number of adult tickets sold so far.\n",
    "\n",
    "1. Create a variable called `adult_tickets_sold` that represents the current number of \"adult\" tickets sold and assign it a value of `59.0`.\n",
    "\n",
    "2. Check the data type of `adult_tickets_sold`."
   ]
  },
  {
   "cell_type": "code",
   "execution_count": 3,
   "id": "18889324",
   "metadata": {},
   "outputs": [
    {
     "data": {
      "text/plain": [
       "float"
      ]
     },
     "execution_count": 3,
     "metadata": {},
     "output_type": "execute_result"
    }
   ],
   "source": [
    "# 1.\n",
    "adult_tickets_sold = 59.0\n",
    "\n",
    "# 2.\n",
    "type(adult_tickets_sold)"
   ]
  },
  {
   "cell_type": "markdown",
   "id": "393de825",
   "metadata": {},
   "source": [
    "## Task 4: Convert data types and print the result\n",
    "\n",
    "The data you work with as a data professional often needs to be converted to different data types. In this case, the number of tickets sold should be recorded as integers and not floats.\n",
    "\n",
    "1. Convert the data saved in the `adult_tickets_sold` variable from a **float** to an **integer**. Reassign the result back to the `adult_tickets_sold` variable.\n",
    "\n",
    "2. Check the data type of `adult_tickets_sold`."
   ]
  },
  {
   "cell_type": "code",
   "execution_count": 4,
   "id": "6e18202d",
   "metadata": {},
   "outputs": [
    {
     "data": {
      "text/plain": [
       "int"
      ]
     },
     "execution_count": 4,
     "metadata": {},
     "output_type": "execute_result"
    }
   ],
   "source": [
    "# 1.\n",
    "adult_tickets_sold = int(adult_tickets_sold)\n",
    "\n",
    "# 2.\n",
    "type(adult_tickets_sold)"
   ]
  },
  {
   "cell_type": "markdown",
   "id": "738758e9",
   "metadata": {},
   "source": [
    "## Conclusion\n",
    "\n",
    "- There are many useful operators in Python that helped me work with variables.\n",
    "  - The `=` assignment operator allowed me to assign or reassign a specific value to a variable.\n",
    "- The `print()` function in Python allowed me to display information.\n",
    "  - It can take in a value directly or a variable that stores a value.\n",
    "- The `type()` function in Python helped me to determine the data type of an object.\n",
    "  - If I pass in a variable to `type()`, it will output the data type of the value stored in the variable.\n",
    "- Python is able to convert some data types from one to another.\n",
    "    - Using the `int()` function on a variable that stores data as a **float** will convert the data from a floating point number to an integer."
   ]
  }
 ],
 "metadata": {
  "kernelspec": {
   "display_name": "Python 3 (ipykernel)",
   "language": "python",
   "name": "python3"
  },
  "language_info": {
   "codemirror_mode": {
    "name": "ipython",
    "version": 3
   },
   "file_extension": ".py",
   "mimetype": "text/x-python",
   "name": "python",
   "nbconvert_exporter": "python",
   "pygments_lexer": "ipython3",
   "version": "3.11.4"
  }
 },
 "nbformat": 4,
 "nbformat_minor": 5
}
